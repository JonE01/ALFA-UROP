{
 "cells": [
  {
   "cell_type": "code",
   "execution_count": 58,
   "id": "87c36d3c",
   "metadata": {},
   "outputs": [],
   "source": [
    "import yaml\n",
    "prompt_path = \"prompts.yaml\"\n",
    "prompt_name = \"75_percent_prompt\"\n",
    "with open(prompt_path, \"r\", encoding='utf-8') as prompt_file:\n",
    "    prompt_dict = yaml.safe_load(prompt_file)\n",
    "prompt = prompt_dict[prompt_name]"
   ]
  },
  {
   "cell_type": "code",
   "execution_count": 59,
   "id": "c53d618a",
   "metadata": {},
   "outputs": [],
   "source": [
    "from datasets import load_dataset\n",
    "import dspy\n",
    "def init_dataset():\n",
    "    test_split  = load_dataset(\"AI-MO/aimo-validation-aime\")['train']\n",
    "    test_split  = [\n",
    "        dspy.Example({\n",
    "            \"problem\": prompt + \"\\nHere is problem:\\n\" + x['problem'],\n",
    "            'answer': x['answer'],\n",
    "        }).with_inputs(\"problem\")\n",
    "        for x in test_split \n",
    "    ]\n",
    "    test_set = test_split[:150]\n",
    "    print(f\"Generated test set with {len(test_set)} examples.\")\n",
    "    return test_set"
   ]
  },
  {
   "cell_type": "code",
   "execution_count": 60,
   "id": "cbe5d6cd",
   "metadata": {},
   "outputs": [
    {
     "name": "stdout",
     "output_type": "stream",
     "text": [
      "Generated test set with 90 examples.\n"
     ]
    }
   ],
   "source": [
    "test_set = init_dataset()"
   ]
  },
  {
   "cell_type": "code",
   "execution_count": 61,
   "id": "ac2d904d",
   "metadata": {},
   "outputs": [],
   "source": [
    "from dotenv import load_dotenv\n",
    "import dspy\n",
    "import os"
   ]
  },
  {
   "cell_type": "code",
   "execution_count": 62,
   "id": "84b79e4f",
   "metadata": {},
   "outputs": [],
   "source": [
    "load_dotenv()\n",
    "api_key = os.getenv(\"OPENAI_API_KEY\")"
   ]
  },
  {
   "cell_type": "code",
   "execution_count": 63,
   "id": "b6834164",
   "metadata": {},
   "outputs": [],
   "source": [
    "lm = dspy.LM(\"openai/gpt-4.1-mini\", temperature=1, api_key=api_key, max_tokens=32000)\n",
    "dspy.configure(lm=lm)"
   ]
  },
  {
   "cell_type": "code",
   "execution_count": 64,
   "id": "1a966225",
   "metadata": {},
   "outputs": [],
   "source": [
    "class GenerateResponse(dspy.Signature):\n",
    "    \"\"\"Solve the problem and provide the answer in the correct format.\"\"\"\n",
    "    problem = dspy.InputField()\n",
    "    answer = dspy.OutputField()\n",
    "\n",
    "program = dspy.ChainOfThought(GenerateResponse)"
   ]
  },
  {
   "cell_type": "code",
   "execution_count": 65,
   "id": "b931fca2",
   "metadata": {},
   "outputs": [],
   "source": [
    "def metric(example, prediction, trace=None, pred_name=None, pred_trace=None):\n",
    "    \"\"\"\n",
    "    An evaluation metric for our evaluator\n",
    "    \"\"\"\n",
    "    correct_answer = int(example['answer'])\n",
    "    try:\n",
    "        llm_answer = int(prediction.answer)\n",
    "    except ValueError as e:\n",
    "        return 0\n",
    "    return int(correct_answer == llm_answer)"
   ]
  },
  {
   "cell_type": "code",
   "execution_count": 66,
   "id": "4832847a",
   "metadata": {},
   "outputs": [
    {
     "name": "stdout",
     "output_type": "stream",
     "text": [
      "Average Metric: 35.00 / 90 (38.9%): 100%|██████████| 90/90 [03:18<00:00,  2.21s/it]"
     ]
    },
    {
     "name": "stderr",
     "output_type": "stream",
     "text": [
      "2025/10/29 19:56:08 INFO dspy.evaluate.evaluate: Average Metric: 35 / 90 (38.9%)\n"
     ]
    },
    {
     "name": "stdout",
     "output_type": "stream",
     "text": [
      "\n"
     ]
    },
    {
     "data": {
      "text/html": [
       "<div>\n",
       "<style scoped>\n",
       "    .dataframe tbody tr th:only-of-type {\n",
       "        vertical-align: middle;\n",
       "    }\n",
       "\n",
       "    .dataframe tbody tr th {\n",
       "        vertical-align: top;\n",
       "    }\n",
       "\n",
       "    .dataframe thead th {\n",
       "        text-align: right;\n",
       "    }\n",
       "</style>\n",
       "<table border=\"1\" class=\"dataframe\">\n",
       "  <thead>\n",
       "    <tr style=\"text-align: right;\">\n",
       "      <th></th>\n",
       "      <th>problem</th>\n",
       "      <th>example_answer</th>\n",
       "      <th>reasoning</th>\n",
       "      <th>pred_answer</th>\n",
       "      <th>metric</th>\n",
       "    </tr>\n",
       "  </thead>\n",
       "  <tbody>\n",
       "    <tr>\n",
       "      <th>0</th>\n",
       "      <td>You are a helpful assistant. You are given one math question and m...</td>\n",
       "      <td>116</td>\n",
       "      <td>- Let P(x) = 2x^2 + bx + c and Q(x) = -2x^2 + dx + e. - Both pass ...</td>\n",
       "      <td>116</td>\n",
       "      <td>✔️ [1]</td>\n",
       "    </tr>\n",
       "    <tr>\n",
       "      <th>1</th>\n",
       "      <td>You are a helpful assistant. You are given one math question and m...</td>\n",
       "      <td>756</td>\n",
       "      <td>- Let the spheres have centers O₁, O₂, O₃ and radii 11, 13, and 19...</td>\n",
       "      <td>756</td>\n",
       "      <td>✔️ [1]</td>\n",
       "    </tr>\n",
       "    <tr>\n",
       "      <th>2</th>\n",
       "      <td>You are a helpful assistant. You are given one math question and m...</td>\n",
       "      <td>150</td>\n",
       "      <td>- Let the parallelogram be \\(ABCD\\) with \\(\\angle BAD &lt; 90^\\circ\\)...</td>\n",
       "      <td>95</td>\n",
       "      <td></td>\n",
       "    </tr>\n",
       "    <tr>\n",
       "      <th>3</th>\n",
       "      <td>You are a helpful assistant. You are given one math question and m...</td>\n",
       "      <td>245</td>\n",
       "      <td>- We have the set {1, ..., n}, and sum over all ordered pairs (A,B...</td>\n",
       "      <td>145</td>\n",
       "      <td></td>\n",
       "    </tr>\n",
       "    <tr>\n",
       "      <th>4</th>\n",
       "      <td>You are a helpful assistant. You are given one math question and m...</td>\n",
       "      <td>392</td>\n",
       "      <td>Each number in S has a repeating decimal expansion with period 4 d...</td>\n",
       "      <td>999</td>\n",
       "      <td></td>\n",
       "    </tr>\n",
       "    <tr>\n",
       "      <th>...</th>\n",
       "      <td>...</td>\n",
       "      <td>...</td>\n",
       "      <td>...</td>\n",
       "      <td>...</td>\n",
       "      <td>...</td>\n",
       "    </tr>\n",
       "    <tr>\n",
       "      <th>85</th>\n",
       "      <td>You are a helpful assistant. You are given one math question and m...</td>\n",
       "      <td>080</td>\n",
       "      <td>- We have a convex equilateral hexagon ABCDEF with all pairs of op...</td>\n",
       "      <td>370</td>\n",
       "      <td></td>\n",
       "    </tr>\n",
       "    <tr>\n",
       "      <th>86</th>\n",
       "      <td>You are a helpful assistant. You are given one math question and m...</td>\n",
       "      <td>055</td>\n",
       "      <td>- Let the set A = {a_1, a_2, ..., a_k} with positive integers. - W...</td>\n",
       "      <td>49</td>\n",
       "      <td></td>\n",
       "    </tr>\n",
       "    <tr>\n",
       "      <th>87</th>\n",
       "      <td>You are a helpful assistant. You are given one math question and m...</td>\n",
       "      <td>699</td>\n",
       "      <td>We want the greatest four-digit number N = 1000Q + R (Q = thousand...</td>\n",
       "      <td>699</td>\n",
       "      <td>✔️ [1]</td>\n",
       "    </tr>\n",
       "    <tr>\n",
       "      <th>88</th>\n",
       "      <td>You are a helpful assistant. You are given one math question and m...</td>\n",
       "      <td>127</td>\n",
       "      <td>- The torus is formed by revolving a circle of radius 3 around an ...</td>\n",
       "      <td>5</td>\n",
       "      <td></td>\n",
       "    </tr>\n",
       "    <tr>\n",
       "      <th>89</th>\n",
       "      <td>You are a helpful assistant. You are given one math question and m...</td>\n",
       "      <td>902</td>\n",
       "      <td>- We have a 5×5 grid (25 cells) and two colors of chips: white and...</td>\n",
       "      <td>1024</td>\n",
       "      <td></td>\n",
       "    </tr>\n",
       "  </tbody>\n",
       "</table>\n",
       "<p>90 rows × 5 columns</p>\n",
       "</div>"
      ],
      "text/plain": [
       "                                                                  problem  \\\n",
       "0   You are a helpful assistant. You are given one math question and m...   \n",
       "1   You are a helpful assistant. You are given one math question and m...   \n",
       "2   You are a helpful assistant. You are given one math question and m...   \n",
       "3   You are a helpful assistant. You are given one math question and m...   \n",
       "4   You are a helpful assistant. You are given one math question and m...   \n",
       "..                                                                    ...   \n",
       "85  You are a helpful assistant. You are given one math question and m...   \n",
       "86  You are a helpful assistant. You are given one math question and m...   \n",
       "87  You are a helpful assistant. You are given one math question and m...   \n",
       "88  You are a helpful assistant. You are given one math question and m...   \n",
       "89  You are a helpful assistant. You are given one math question and m...   \n",
       "\n",
       "   example_answer  \\\n",
       "0             116   \n",
       "1             756   \n",
       "2             150   \n",
       "3             245   \n",
       "4             392   \n",
       "..            ...   \n",
       "85            080   \n",
       "86            055   \n",
       "87            699   \n",
       "88            127   \n",
       "89            902   \n",
       "\n",
       "                                                                reasoning  \\\n",
       "0   - Let P(x) = 2x^2 + bx + c and Q(x) = -2x^2 + dx + e. - Both pass ...   \n",
       "1   - Let the spheres have centers O₁, O₂, O₃ and radii 11, 13, and 19...   \n",
       "2   - Let the parallelogram be \\(ABCD\\) with \\(\\angle BAD < 90^\\circ\\)...   \n",
       "3   - We have the set {1, ..., n}, and sum over all ordered pairs (A,B...   \n",
       "4   Each number in S has a repeating decimal expansion with period 4 d...   \n",
       "..                                                                    ...   \n",
       "85  - We have a convex equilateral hexagon ABCDEF with all pairs of op...   \n",
       "86  - Let the set A = {a_1, a_2, ..., a_k} with positive integers. - W...   \n",
       "87  We want the greatest four-digit number N = 1000Q + R (Q = thousand...   \n",
       "88  - The torus is formed by revolving a circle of radius 3 around an ...   \n",
       "89  - We have a 5×5 grid (25 cells) and two colors of chips: white and...   \n",
       "\n",
       "   pred_answer  metric  \n",
       "0          116  ✔️ [1]  \n",
       "1          756  ✔️ [1]  \n",
       "2           95          \n",
       "3          145          \n",
       "4          999          \n",
       "..         ...     ...  \n",
       "85         370          \n",
       "86          49          \n",
       "87         699  ✔️ [1]  \n",
       "88           5          \n",
       "89        1024          \n",
       "\n",
       "[90 rows x 5 columns]"
      ]
     },
     "metadata": {},
     "output_type": "display_data"
    }
   ],
   "source": [
    "import dspy\n",
    "evaluate = dspy.Evaluate(\n",
    "    devset=test_set,\n",
    "    metric=metric,\n",
    "    num_threads=32,\n",
    "    display_table=True,\n",
    "    display_progress=True\n",
    ")\n",
    "\n",
    "score, results = evaluate(program)"
   ]
  },
  {
   "cell_type": "code",
   "execution_count": null,
   "id": "ab73e3b4",
   "metadata": {},
   "outputs": [
    {
     "name": "stdout",
     "output_type": "stream",
     "text": [
      "results\n"
     ]
    }
   ],
   "source": []
  },
  {
   "cell_type": "code",
   "execution_count": null,
   "id": "24903295",
   "metadata": {},
   "outputs": [],
   "source": []
  }
 ],
 "metadata": {
  "kernelspec": {
   "display_name": ".venv",
   "language": "python",
   "name": "python3"
  },
  "language_info": {
   "codemirror_mode": {
    "name": "ipython",
    "version": 3
   },
   "file_extension": ".py",
   "mimetype": "text/x-python",
   "name": "python",
   "nbconvert_exporter": "python",
   "pygments_lexer": "ipython3",
   "version": "3.12.1"
  }
 },
 "nbformat": 4,
 "nbformat_minor": 5
}
